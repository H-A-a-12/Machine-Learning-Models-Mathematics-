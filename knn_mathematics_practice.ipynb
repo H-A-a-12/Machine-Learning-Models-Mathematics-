{
 "cells": [
  {
   "cell_type": "code",
   "execution_count": 1,
   "metadata": {},
   "outputs": [],
   "source": [
    "import numpy as np\n",
    "import operator\n",
    "import math\n",
    "import pandas as pd"
   ]
  },
  {
   "cell_type": "code",
   "execution_count": 2,
   "metadata": {},
   "outputs": [],
   "source": [
    "data=pd.read_csv(r'D:\\jupyter\\dataset\\Iris.csv')"
   ]
  },
  {
   "cell_type": "code",
   "execution_count": 13,
   "metadata": {},
   "outputs": [],
   "source": [
    "def ed(data1, data2, length):\n",
    "    \n",
    "    distance = 0\n",
    "    for x in range(length):\n",
    "        distance += np.square(data1[x] - data2[x])\n",
    "    return np.sqrt(distance)\n"
   ]
  },
  {
   "cell_type": "code",
   "execution_count": 90,
   "metadata": {},
   "outputs": [],
   "source": [
    "def knn(trainset,testset,k):\n",
    "    #length=len(test)\n",
    "    length = testset.shape[1]\n",
    "    print(length)\n",
    "    distance={}\n",
    "    sort={}\n",
    "    for i in range(len(trainset)):\n",
    "        dist = ed(testset,trainset.iloc[i], length)\n",
    "        distance[i]=dist[0]\n",
    "    #print(distance)\n",
    "    sort_d=sorted(distance.items(),key=operator.itemgetter(1))\n",
    "    #print(sort_d)\n",
    "    neighbors=[]\n",
    "    \n",
    "    for i in range(k):\n",
    "        #print(k)\n",
    "        neighbors.append(sort_d[i][0])\n",
    "        print(neighbors)\n",
    "    print(len(neighbors))\n",
    "    classVotes={}\n",
    "    for i in range(len(neighbors)):\n",
    "        responses = trainset.iloc[neighbors[i]]\n",
    "        response = trainset.iloc[neighbors[i]][-1]\n",
    "        #print(responses)\n",
    "        if response in classVotes:\n",
    "            classVotes[response] += 1\n",
    "        else:\n",
    "            classVotes[response] = 1\n",
    "    print(classVotes)\n",
    "    sortedVotes = sorted(classVotes.items(),\n",
    "    key=operator.itemgetter(1), reverse=True)\n",
    "    print(sortedVotes)\n",
    "    return(sortedVotes[0][0])\n",
    "        "
   ]
  },
  {
   "cell_type": "code",
   "execution_count": 91,
   "metadata": {},
   "outputs": [],
   "source": [
    "#tests=pd.DataFrame([[4.8,3,1.4,0.1]])\n",
    "#k = 5\n",
    "#result = knn(data, tests, k)\n",
    "#print(result)\n",
    "#for x in range(150):\n",
    " #   print(ed(data.iloc[x],tests,4))"
   ]
  },
  {
   "cell_type": "code",
   "execution_count": 92,
   "metadata": {},
   "outputs": [
    {
     "name": "stdout",
     "output_type": "stream",
     "text": [
      "4\n",
      "[3]\n",
      "[3, 4]\n",
      "[3, 4, 2]\n",
      "[3, 4, 2, 6]\n",
      "[3, 4, 2, 6, 1]\n",
      "5\n",
      "{'Iris-setosa': 5}\n",
      "[('Iris-setosa', 5)]\n",
      "Iris-setosa\n"
     ]
    }
   ],
   "source": [
    "tests=pd.DataFrame([[4.8,3,1.4,0.1]])\n",
    "k = 5\n",
    "result = knn(data, tests, k)\n",
    "print(result)"
   ]
  },
  {
   "cell_type": "raw",
   "metadata": {},
   "source": [
    "def knn(trainset, testset, k):\n",
    "    distances = {}\n",
    "    sort = {}\n",
    "    \n",
    "    length = testset.shape[1]\n",
    "    print(testset)\n",
    "    print(length)\n",
    "    for x in range(len(trainset)):\n",
    "        dist = ed(testset,trainset.iloc[x], length)\n",
    "        #print(dist)\n",
    "        distances[x] = dist[0]\n",
    "       \n",
    "    #print(distances)\n",
    "    sorted_d = sorted(distances.items(), \n",
    "                      key=operator.itemgetter(1))\n",
    "    print(sorted_d)\n",
    "    neighbors = [] \n",
    "    \n",
    "    # Extracting top k neighbors\n",
    "    for x in range(k):\n",
    "        neighbors.append(sorted_d[x][0])\n",
    "        #print(neighbors)\n",
    "        #[[1,2,3,4,5],[3,4,5,6,7]]\n",
    "    #### End of STEP 3.3\n",
    "    classVotes = {}\n",
    "    # Calculating the most freq class in the neighbors\n",
    "    for x in range(len(neighbors)):\n",
    "        responses = trainset.iloc[neighbors[x]]\n",
    "        response = trainset.iloc[neighbors[x]][-1]\n",
    "        #print(responses)\n",
    "        if response in classVotes:\n",
    "            classVotes[response] += 1\n",
    "        else:\n",
    "            classVotes[response] = 1\n",
    "        print(classVotes)\n",
    "    sortedVotes = sorted(classVotes.items(),\n",
    "    key=operator.itemgetter(1), reverse=True)\n",
    "    print(sortedVotes)\n",
    "    return(sortedVotes[0][0])"
   ]
  },
  {
   "cell_type": "code",
   "execution_count": null,
   "metadata": {},
   "outputs": [],
   "source": []
  }
 ],
 "metadata": {
  "kernelspec": {
   "display_name": "Python 3",
   "language": "python",
   "name": "python3"
  },
  "language_info": {
   "codemirror_mode": {
    "name": "ipython",
    "version": 3
   },
   "file_extension": ".py",
   "mimetype": "text/x-python",
   "name": "python",
   "nbconvert_exporter": "python",
   "pygments_lexer": "ipython3",
   "version": "3.6.3"
  }
 },
 "nbformat": 4,
 "nbformat_minor": 4
}
